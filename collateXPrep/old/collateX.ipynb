{
 "cells": [
  {
   "cell_type": "markdown",
   "metadata": {},
   "source": [
    "This is a notebook to help preview collateX processing of variant texts, working with segments of the 1818, 1823, and 1831 editions of *Frankenstein*."
   ]
  },
  {
   "cell_type": "code",
   "execution_count": null,
   "metadata": {
    "collapsed": false
   },
   "outputs": [],
   "source": [
    "from collatex import *\n",
    "collation = Collation() \n",
    "with \\\n",
    "    open('1818_openingLetters.txt','r') as f1818, \\\n",
    "    open('1823_openingLetters.txt','r') as f1823, \\\n",
    "    open('1831_openingLetters.txt','r') as f1831: \n",
    "    w1818=f1818.read() \n",
    "    w1823=f1823.read() \n",
    "    w1831=f1831.read() \n",
    "    collation.add_plain_witness('w1818', w1818) \n",
    "    collation.add_plain_witness('w1823', w1823) \n",
    "    collation.add_plain_witness('w1831', w1831) \n",
    "# outputs colored HTML in Jupyter notebook\n",
    "collate(collation, segmentation=True, output='html2', layout='vertical')\n",
    "# creates SVG in Jupyter notebook (try also svg2)\n",
    "# collate(collation, segmentation=True, output='svg')\n",
    "# outputs TEI into a file called collation.xml\n",
    "# tei = collate(collation, segmentation=True, output='tei')\n",
    "# with \\\n",
    "# open('collation.xml', 'w') as output\n",
    "#   output.write(tei)"
   ]
  },
  {
   "cell_type": "code",
   "execution_count": null,
   "metadata": {
    "collapsed": false
   },
   "outputs": [],
   "source": [
    "from collatex import *\n",
    "collation = Collation() \n",
    "with \\\n",
    "    open('1818_openingLetters.txt','r') as f1818, \\\n",
    "    open('1823_openingLetters.txt','r') as f1823, \\\n",
    "    open('1831_openingLetters.txt','r') as f1831: \n",
    "    w1818=f1818.read() \n",
    "    w1823=f1823.read() \n",
    "    w1831=f1831.read() \n",
    "    collation.add_plain_witness('w1818', w1818) \n",
    "    collation.add_plain_witness('w1823', w1823) \n",
    "    collation.add_plain_witness('w1831', w1831) \n",
    "# outputs colored HTML in Jupyter notebook\n",
    "# collate(collation, segmentation=True, output='html2', layout='vertical')\n",
    "# creates SVG in Jupyter notebook (try also svg2)\n",
    "collate(collation, segmentation=True, output='svg')\n",
    "# outputs TEI into a file called collation.xml\n",
    "# tei = collate(collation, segmentation=True, output='tei')\n",
    "# with \\\n",
    "# open('collation.xml', 'w') as output\n",
    "#   output.write(tei)"
   ]
  },
  {
   "cell_type": "code",
   "execution_count": null,
   "metadata": {
    "collapsed": false
   },
   "outputs": [],
   "source": [
    "%load_ext autoreload\n",
    "%autoreload 2\n",
    "from collatex import *\n",
    "collation = Collation() \n",
    "collation.add_plain_witness('w1818', 'The big pink c o c k a t o o.') \n",
    "collation.add_plain_witness('w1823', 'The big yellow c o c k a t o o.') \n",
    "collation.add_plain_witness('w1831', 'The big yellow c o c k a t i e l.') \n",
    "collate(collation, segmentation=True, output='svg_simple')\n",
    "# collate(collation, segmentation=True, output='svg')"
   ]
  },
  {
   "cell_type": "code",
   "execution_count": null,
   "metadata": {
    "collapsed": false
   },
   "outputs": [],
   "source": [
    "from collatex import *\n",
    "import re\n",
    "\n",
    "def tokenize(input):\n",
    "    words = re.split(r'\\s+', input) # split on whitespace\n",
    "    tokens_by_word = [re.findall(r'.+\\w|\\W+$', word) for word in words] # break off final punctuation\n",
    "    tokens = []\n",
    "    for item in tokens_by_word:\n",
    "        tokens.extend(item)\n",
    "    token_list = [{\"t\": token} for token in tokens] # create dictionaries for each token\n",
    "    return token_list\n",
    "\n",
    "input_a = \"Peter's cat.\"\n",
    "input_b = \"Peter's dog.\"\n",
    "\n",
    "tokens_a = tokenize(input_a)\n",
    "print('tokens_a =', tokens_a)\n",
    "tokens_b = tokenize(input_b)\n",
    "print('tokens_b =', tokens_b)\n",
    "witness_a = { \"id\": \"A\", \"tokens\": tokens_a }\n",
    "print('witness_a = ', witness_a)\n",
    "witness_b = { \"id\": \"B\", \"tokens\": tokens_b }\n",
    "input = { \"witnesses\": [ witness_a, witness_b ] }\n",
    "table = collate(input, segmentation=False)\n",
    "print(table)"
   ]
  },
  {
   "cell_type": "code",
   "execution_count": 3,
   "metadata": {
    "collapsed": false
   },
   "outputs": [
    {
     "name": "stdout",
     "output_type": "stream",
     "text": [
      "The autoreload extension is already loaded. To reload it, use:\n",
      "  %reload_ext autoreload\n",
      "+---+-----+-----+------+-------+\n",
      "| A | The | big | gray | koala |\n",
      "| B | The | -   | grey | koala |\n",
      "+---+-----+-----+------+-------+\n"
     ]
    },
    {
     "data": {
      "image/svg+xml": [
       "<svg height=\"95pt\" viewBox=\"0.00 0.00 654.00 95.00\" width=\"654pt\" xmlns=\"http://www.w3.org/2000/svg\" xmlns:xlink=\"http://www.w3.org/1999/xlink\">\n",
       "<g class=\"graph\" id=\"graph0\" transform=\"scale(1 1) rotate(0) translate(4 91)\">\n",
       "<title>%3</title>\n",
       "<polygon fill=\"white\" points=\"-4,4 -4,-91 650,-91 650,4 -4,4\" stroke=\"none\"/>\n",
       "<!-- 1 -->\n",
       "<g class=\"node\" id=\"node1\"><title>1</title>\n",
       "<ellipse cx=\"27\" cy=\"-40\" fill=\"none\" rx=\"27\" ry=\"18\" stroke=\"black\"/>\n",
       "<text font-family=\"Times,serif\" font-size=\"14.00\" text-anchor=\"middle\" x=\"27\" y=\"-36.3\">#</text>\n",
       "</g>\n",
       "<!-- 7 -->\n",
       "<g class=\"node\" id=\"node7\"><title>7</title>\n",
       "<ellipse cx=\"145\" cy=\"-40\" fill=\"none\" rx=\"27\" ry=\"18\" stroke=\"black\"/>\n",
       "<text font-family=\"Times,serif\" font-size=\"14.00\" text-anchor=\"middle\" x=\"145\" y=\"-36.3\">The</text>\n",
       "</g>\n",
       "<!-- 1&#45;&gt;7 -->\n",
       "<g class=\"edge\" id=\"edge1\"><title>1-&gt;7</title>\n",
       "<path d=\"M54.0327,-40C69.7428,-40 90.0033,-40 107.319,-40\" fill=\"none\" stroke=\"black\"/>\n",
       "<polygon fill=\"black\" points=\"107.653,-43.5001 117.653,-40 107.653,-36.5001 107.653,-43.5001\" stroke=\"black\"/>\n",
       "<text font-family=\"Times,serif\" font-size=\"14.00\" text-anchor=\"middle\" x=\"86\" y=\"-43.8\">A, B</text>\n",
       "</g>\n",
       "<!-- 2 -->\n",
       "<g class=\"node\" id=\"node2\"><title>2</title>\n",
       "<ellipse cx=\"247\" cy=\"-67\" fill=\"none\" rx=\"27\" ry=\"18\" stroke=\"black\"/>\n",
       "<text font-family=\"Times,serif\" font-size=\"14.00\" text-anchor=\"middle\" x=\"247\" y=\"-63.3\">big</text>\n",
       "</g>\n",
       "<!-- 5 -->\n",
       "<g class=\"node\" id=\"node5\"><title>5</title>\n",
       "<ellipse cx=\"391\" cy=\"-69\" fill=\"none\" rx=\"27\" ry=\"18\" stroke=\"black\"/>\n",
       "<text font-family=\"Times,serif\" font-size=\"14.00\" text-anchor=\"middle\" x=\"391\" y=\"-65.3\">gray</text>\n",
       "</g>\n",
       "<!-- 2&#45;&gt;5 -->\n",
       "<g class=\"edge\" id=\"edge2\"><title>2-&gt;5</title>\n",
       "<path d=\"M274.045,-67.3668C296.324,-67.6806 328.634,-68.1357 353.493,-68.4858\" fill=\"none\" stroke=\"black\"/>\n",
       "<polygon fill=\"black\" points=\"353.591,-71.9874 363.639,-68.6287 353.69,-64.9881 353.591,-71.9874\" stroke=\"black\"/>\n",
       "<text font-family=\"Times,serif\" font-size=\"14.00\" text-anchor=\"middle\" x=\"319\" y=\"-71.8\">A</text>\n",
       "</g>\n",
       "<!-- 3 -->\n",
       "<g class=\"node\" id=\"node3\"><title>3</title>\n",
       "<ellipse cx=\"497\" cy=\"-39\" fill=\"none\" rx=\"30.5947\" ry=\"18\" stroke=\"black\"/>\n",
       "<text font-family=\"Times,serif\" font-size=\"14.00\" text-anchor=\"middle\" x=\"497\" y=\"-35.3\">koala</text>\n",
       "</g>\n",
       "<!-- 6 -->\n",
       "<g class=\"node\" id=\"node6\"><title>6</title>\n",
       "<ellipse cx=\"619\" cy=\"-39\" fill=\"none\" rx=\"27\" ry=\"18\" stroke=\"black\"/>\n",
       "<text font-family=\"Times,serif\" font-size=\"14.00\" text-anchor=\"middle\" x=\"619\" y=\"-35.3\">#</text>\n",
       "</g>\n",
       "<!-- 3&#45;&gt;6 -->\n",
       "<g class=\"edge\" id=\"edge3\"><title>3-&gt;6</title>\n",
       "<path d=\"M527.663,-39C543.986,-39 564.375,-39 581.649,-39\" fill=\"none\" stroke=\"black\"/>\n",
       "<polygon fill=\"black\" points=\"581.939,-42.5001 591.939,-39 581.939,-35.5001 581.939,-42.5001\" stroke=\"black\"/>\n",
       "<text font-family=\"Times,serif\" font-size=\"14.00\" text-anchor=\"middle\" x=\"560\" y=\"-42.8\">A, B</text>\n",
       "</g>\n",
       "<!-- 4 -->\n",
       "<g class=\"node\" id=\"node4\"><title>4</title>\n",
       "<ellipse cx=\"319\" cy=\"-18\" fill=\"none\" rx=\"27\" ry=\"18\" stroke=\"black\"/>\n",
       "<text font-family=\"Times,serif\" font-size=\"14.00\" text-anchor=\"middle\" x=\"319\" y=\"-14.3\">grey</text>\n",
       "</g>\n",
       "<!-- 4&#45;&gt;3 -->\n",
       "<g class=\"edge\" id=\"edge4\"><title>4-&gt;3</title>\n",
       "<path d=\"M346.251,-19.973C366.013,-21.5644 393.75,-24.0239 418,-27 430.855,-28.5777 444.852,-30.6264 457.395,-32.5833\" fill=\"none\" stroke=\"black\"/>\n",
       "<polygon fill=\"black\" points=\"457.107,-36.0813 467.532,-34.193 458.204,-29.1679 457.107,-36.0813\" stroke=\"black\"/>\n",
       "<text font-family=\"Times,serif\" font-size=\"14.00\" text-anchor=\"middle\" x=\"391\" y=\"-30.8\">B</text>\n",
       "</g>\n",
       "<!-- 5&#45;&gt;3 -->\n",
       "<g class=\"edge\" id=\"edge5\"><title>5-&gt;3</title>\n",
       "<path d=\"M416.121,-62.042C428.992,-58.3292 445.099,-53.6831 459.471,-49.5373\" fill=\"none\" stroke=\"black\"/>\n",
       "<polygon fill=\"black\" points=\"460.444,-52.8993 469.082,-46.7648 458.504,-46.1736 460.444,-52.8993\" stroke=\"black\"/>\n",
       "<text font-family=\"Times,serif\" font-size=\"14.00\" text-anchor=\"middle\" x=\"442\" y=\"-58.8\">A</text>\n",
       "</g>\n",
       "<!-- 7&#45;&gt;2 -->\n",
       "<g class=\"edge\" id=\"edge7\"><title>7-&gt;2</title>\n",
       "<path d=\"M170.207,-46.5359C182.644,-49.8939 198.012,-54.0434 211.653,-57.7262\" fill=\"none\" stroke=\"black\"/>\n",
       "<polygon fill=\"black\" points=\"211.102,-61.2029 221.669,-60.4307 212.927,-54.4449 211.102,-61.2029\" stroke=\"black\"/>\n",
       "<text font-family=\"Times,serif\" font-size=\"14.00\" text-anchor=\"middle\" x=\"196\" y=\"-58.8\">A</text>\n",
       "</g>\n",
       "<!-- 7&#45;&gt;4 -->\n",
       "<g class=\"edge\" id=\"edge6\"><title>7-&gt;4</title>\n",
       "<path d=\"M171.079,-35.1228C177.251,-34.0102 183.853,-32.8938 190,-32 220.915,-27.5047 256.22,-23.7454 281.911,-21.2581\" fill=\"none\" stroke=\"black\"/>\n",
       "<polygon fill=\"black\" points=\"282.322,-24.7349 291.945,-20.3038 281.659,-17.7663 282.322,-24.7349\" stroke=\"black\"/>\n",
       "<text font-family=\"Times,serif\" font-size=\"14.00\" text-anchor=\"middle\" x=\"196\" y=\"-35.8\">B</text>\n",
       "</g>\n",
       "</g>\n",
       "</svg>"
      ],
      "text/plain": [
       "<IPython.core.display.SVG object>"
      ]
     },
     "metadata": {},
     "output_type": "display_data"
    }
   ],
   "source": [
    "%load_ext autoreload\n",
    "%autoreload 2\n",
    "from collatex import *\n",
    "collation = Collation()\n",
    "collation.add_plain_witness('A','The big gray koala')\n",
    "collation.add_plain_witness('B','The grey koala')\n",
    "table = collate(collation, segmentation=False, near_match=True)\n",
    "print(table)\n",
    "collate(collation,segmentation=False,near_match=True,output=\"svg_simple\")"
   ]
  },
  {
   "cell_type": "code",
   "execution_count": null,
   "metadata": {
    "collapsed": true
   },
   "outputs": [],
   "source": []
  }
 ],
 "metadata": {
  "anaconda-cloud": {},
  "kernelspec": {
   "display_name": "Python [conda root]",
   "language": "python",
   "name": "conda-root-py"
  },
  "language_info": {
   "codemirror_mode": {
    "name": "ipython",
    "version": 3
   },
   "file_extension": ".py",
   "mimetype": "text/x-python",
   "name": "python",
   "nbconvert_exporter": "python",
   "pygments_lexer": "ipython3",
   "version": "3.5.2"
  }
 },
 "nbformat": 4,
 "nbformat_minor": 1
}
